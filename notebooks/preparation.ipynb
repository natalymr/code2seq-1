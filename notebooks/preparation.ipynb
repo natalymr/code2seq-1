{
 "cells": [
  {
   "cell_type": "markdown",
   "metadata": {},
   "source": [
    "## Preparation"
   ]
  },
  {
   "cell_type": "code",
   "execution_count": 1,
   "metadata": {},
   "outputs": [
    {
     "name": "stdout",
     "output_type": "stream",
     "text": [
      "/Users/natalia.murycheva/PycharmProjects/gitCommitMessageCollector/commit2seq/code2seq\n"
     ]
    }
   ],
   "source": [
    "%cd ../"
   ]
  },
  {
   "cell_type": "code",
   "execution_count": 2,
   "metadata": {},
   "outputs": [
    {
     "name": "stdout",
     "output_type": "stream",
     "text": [
      "mkdir: runs: File exists\r\n",
      "mkdir: logs: File exists\r\n"
     ]
    }
   ],
   "source": [
    "!mkdir data runs logs"
   ]
  },
  {
   "cell_type": "markdown",
   "metadata": {},
   "source": [
    "### Packages"
   ]
  },
  {
   "cell_type": "code",
   "execution_count": 3,
   "metadata": {},
   "outputs": [
    {
     "name": "stdout",
     "output_type": "stream",
     "text": [
      "/bin/sh: pip: command not found\n",
      "/bin/sh: pip: command not found\n"
     ]
    }
   ],
   "source": [
    "# if you use GCP, install google_compute_engine\n",
    "!pip install google_compute_engine\n",
    "!pip install -r requirements.txt"
   ]
  },
  {
   "cell_type": "markdown",
   "metadata": {},
   "source": [
    "### Dataset"
   ]
  },
  {
   "cell_type": "code",
   "execution_count": 4,
   "metadata": {},
   "outputs": [
    {
     "name": "stdout",
     "output_type": "stream",
     "text": [
      "Warning: Failed to set locale category LC_NUMERIC to en_RU.\n",
      "Warning: Failed to set locale category LC_TIME to en_RU.\n",
      "Warning: Failed to set locale category LC_COLLATE to en_RU.\n",
      "Warning: Failed to set locale category LC_MONETARY to en_RU.\n",
      "Warning: Failed to set locale category LC_MESSAGES to en_RU.\n",
      "--2020-07-20 16:58:34--  https://s3.amazonaws.com/code2seq/datasets/java-small-preprocessed.tar.gz\n",
      "Resolving s3.amazonaws.com (s3.amazonaws.com)... 52.217.1.94\n",
      "Connecting to s3.amazonaws.com (s3.amazonaws.com)|52.217.1.94|:443... connected.\n",
      "HTTP request sent, awaiting response... 200 OK\n",
      "Length: 479663374 (457M) [application/x-tar]\n",
      "Saving to: ‘data/java-small-preprocessed.tar.gz’\n",
      "\n",
      "java-small-preproce 100%[===================>] 457.44M  1.57MB/s    in 4m 45s  \n",
      "\n",
      "2020-07-20 17:03:19 (1.61 MB/s) - ‘data/java-small-preprocessed.tar.gz’ saved [479663374/479663374]\n",
      "\n"
     ]
    }
   ],
   "source": [
    "!wget https://s3.amazonaws.com/code2seq/datasets/java-small-preprocessed.tar.gz -P data/"
   ]
  },
  {
   "cell_type": "code",
   "execution_count": 5,
   "metadata": {},
   "outputs": [
    {
     "name": "stdout",
     "output_type": "stream",
     "text": [
      "x java-small/java-small.dict.c2s\n",
      "x java-small/java-small.test.c2s\n",
      "x java-small/java-small.train.c2s\n",
      "x java-small/java-small.val.c2s\n"
     ]
    }
   ],
   "source": [
    "!tar -xvzf data/java-small-preprocessed.tar.gz -C data/"
   ]
  },
  {
   "cell_type": "code",
   "execution_count": 16,
   "metadata": {},
   "outputs": [],
   "source": [
    "# %cd data/java-small/\n",
    "\n",
    "#for dev\n",
    "!head -10000 java-small.train.c2s > java-small.train_dev.c2s\n",
    "!head -5000 java-small.test.c2s > java-small.test_dev.c2s\n",
    "!head -5000 java-small.val.c2s > java-small.val_dev.c2s"
   ]
  },
  {
   "cell_type": "code",
   "execution_count": 28,
   "metadata": {},
   "outputs": [
    {
     "name": "stdout",
     "output_type": "stream",
     "text": [
      "mkdir: train: File exists\r\n",
      "mkdir: train_dev: File exists\r\n",
      "mkdir: val: File exists\r\n",
      "mkdir: test: File exists\r\n"
     ]
    }
   ],
   "source": [
    "!mkdir train train_dev val val_dev test test_dev"
   ]
  },
  {
   "cell_type": "code",
   "execution_count": 11,
   "metadata": {},
   "outputs": [
    {
     "name": "stdout",
     "output_type": "stream",
     "text": [
      "split: illegal option -- d\n",
      "usage: split [-a sufflen] [-b byte_count] [-l line_count] [-p pattern]\n",
      "             [file [prefix]]\n",
      "split: illegal option -- d\n",
      "usage: split [-a sufflen] [-b byte_count] [-l line_count] [-p pattern]\n",
      "             [file [prefix]]\n",
      "split: illegal option -- d\n",
      "usage: split [-a sufflen] [-b byte_count] [-l line_count] [-p pattern]\n",
      "             [file [prefix]]\n",
      "split: illegal option -- d\n",
      "usage: split [-a sufflen] [-b byte_count] [-l line_count] [-p pattern]\n",
      "             [file [prefix]]\n"
     ]
    }
   ],
   "source": [
    "!split -d -a 6 -l 1 --additional-suffix=.txt java-small.test.c2s test/\n",
    "!split -d -a 6 -l 1 --additional-suffix=.txt java-small.val.c2s val/\n",
    "!split -d -a 6 -l 1 --additional-suffix=.txt java-small.train.c2s train/\n",
    "!split -d -a 6 -l 1 --additional-suffix=.txt java-small.train_dev.c2s train_dev/"
   ]
  },
  {
   "cell_type": "code",
   "execution_count": 36,
   "metadata": {},
   "outputs": [],
   "source": [
    "def split(input_file, output_dir):\n",
    "    with open(input_file, 'r') as in_f:\n",
    "        for i, line in enumerate(in_f):\n",
    "            output_file = output_dir + '/{:0>6d}.txt'.format(i)\n",
    "            with open(output_file, 'w') as out_f:\n",
    "                out_f.write(line)"
   ]
  },
  {
   "cell_type": "code",
   "execution_count": 37,
   "metadata": {},
   "outputs": [],
   "source": [
    "split('java-small.test_dev.c2s', 'test_dev')\n",
    "split('java-small.val_dev.c2s', 'val_dev')\n",
    "split('java-small.train_dev.c2s', 'train_dev')"
   ]
  },
  {
   "cell_type": "code",
   "execution_count": 35,
   "metadata": {},
   "outputs": [],
   "source": [
    "!ls test_dev"
   ]
  },
  {
   "cell_type": "code",
   "execution_count": null,
   "metadata": {},
   "outputs": [],
   "source": []
  }
 ],
 "metadata": {
  "kernelspec": {
   "display_name": "Python 3",
   "language": "python",
   "name": "python3"
  },
  "language_info": {
   "codemirror_mode": {
    "name": "ipython",
    "version": 3
   },
   "file_extension": ".py",
   "mimetype": "text/x-python",
   "name": "python",
   "nbconvert_exporter": "python",
   "pygments_lexer": "ipython3",
   "version": "3.7.3"
  }
 },
 "nbformat": 4,
 "nbformat_minor": 4
}
